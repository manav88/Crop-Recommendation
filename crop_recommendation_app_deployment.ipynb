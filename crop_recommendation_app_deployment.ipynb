{
  "cells": [
    {
      "cell_type": "markdown",
      "id": "e152ed3d",
      "metadata": {
        "papermill": {
          "duration": 0.046869,
          "end_time": "2021-09-19T00:53:06.592384",
          "exception": false,
          "start_time": "2021-09-19T00:53:06.545515",
          "status": "completed"
        },
        "tags": [],
        "id": "e152ed3d"
      },
      "source": [
        "## Manav Mangukiya Project\n",
        "#Crop Recommendation System using ML"
      ]
    },
    {
      "cell_type": "code",
      "execution_count": null,
      "id": "064a9a66",
      "metadata": {
        "execution": {
          "iopub.execute_input": "2021-09-19T00:53:06.693588Z",
          "iopub.status.busy": "2021-09-19T00:53:06.692946Z",
          "iopub.status.idle": "2021-09-19T00:53:07.821253Z",
          "shell.execute_reply": "2021-09-19T00:53:07.820150Z",
          "shell.execute_reply.started": "2021-09-18T21:50:51.634020Z"
        },
        "papermill": {
          "duration": 1.184854,
          "end_time": "2021-09-19T00:53:07.821450",
          "exception": false,
          "start_time": "2021-09-19T00:53:06.636596",
          "status": "completed"
        },
        "tags": [],
        "id": "064a9a66"
      },
      "outputs": [],
      "source": [
        "import os\n",
        "import pickle\n",
        "import numpy as np \n",
        "import pandas as pd\n",
        "import seaborn as sns\n",
        "import matplotlib.pyplot as plt\n",
        "from sklearn.neighbors import KNeighborsClassifier\n",
        "from sklearn.model_selection import train_test_split\n",
        "from sklearn.model_selection import RandomizedSearchCV\n",
        "from sklearn.metrics import accuracy_score, confusion_matrix, ConfusionMatrixDisplay, classification_report"
      ]
    },
    {
      "cell_type": "markdown",
      "id": "ae1dd77a",
      "metadata": {
        "papermill": {
          "duration": 0.045076,
          "end_time": "2021-09-19T00:53:07.910398",
          "exception": false,
          "start_time": "2021-09-19T00:53:07.865322",
          "status": "completed"
        },
        "tags": [],
        "id": "ae1dd77a"
      },
      "source": [
        "## Read dataset"
      ]
    },
    {
      "cell_type": "code",
      "execution_count": null,
      "id": "841792bf",
      "metadata": {
        "execution": {
          "iopub.execute_input": "2021-09-19T00:53:08.002271Z",
          "iopub.status.busy": "2021-09-19T00:53:08.001634Z",
          "iopub.status.idle": "2021-09-19T00:53:08.005514Z",
          "shell.execute_reply": "2021-09-19T00:53:08.006077Z",
          "shell.execute_reply.started": "2021-09-18T21:50:52.857846Z"
        },
        "papermill": {
          "duration": 0.051538,
          "end_time": "2021-09-19T00:53:08.006249",
          "exception": false,
          "start_time": "2021-09-19T00:53:07.954711",
          "status": "completed"
        },
        "tags": [],
        "id": "841792bf"
      },
      "outputs": [],
      "source": [
        "DATA_PATH = '../input/crop-recommendation-dataset/Crop_recommendation.csv'"
      ]
    },
    {
      "cell_type": "code",
      "execution_count": null,
      "id": "19ca1bec",
      "metadata": {
        "execution": {
          "iopub.execute_input": "2021-09-19T00:53:08.097414Z",
          "iopub.status.busy": "2021-09-19T00:53:08.096488Z",
          "iopub.status.idle": "2021-09-19T00:53:08.121914Z",
          "shell.execute_reply": "2021-09-19T00:53:08.122453Z",
          "shell.execute_reply.started": "2021-09-18T21:50:52.863650Z"
        },
        "papermill": {
          "duration": 0.072466,
          "end_time": "2021-09-19T00:53:08.122624",
          "exception": false,
          "start_time": "2021-09-19T00:53:08.050158",
          "status": "completed"
        },
        "tags": [],
        "id": "19ca1bec"
      },
      "outputs": [],
      "source": [
        "df = pd.read_csv(DATA_PATH)"
      ]
    },
    {
      "cell_type": "markdown",
      "id": "7b1cd549",
      "metadata": {
        "papermill": {
          "duration": 0.043118,
          "end_time": "2021-09-19T00:53:08.209819",
          "exception": false,
          "start_time": "2021-09-19T00:53:08.166701",
          "status": "completed"
        },
        "tags": [],
        "id": "7b1cd549"
      },
      "source": [
        "### Available independent features\n",
        "* N - ratio of Nitrogen content in soil\n",
        "* P - ratio of Phosphorous content in soil\n",
        "* K - ratio of Potassium content in soil\n",
        "* temperature - temperature in degree Celsius\n",
        "* humidity - relative humidity in %\n",
        "* ph - ph value of the soil\n",
        "* rainfall - rainfall in mm"
      ]
    },
    {
      "cell_type": "markdown",
      "id": "0f59fc1a",
      "metadata": {
        "papermill": {
          "duration": 0.043518,
          "end_time": "2021-09-19T00:53:08.296565",
          "exception": false,
          "start_time": "2021-09-19T00:53:08.253047",
          "status": "completed"
        },
        "tags": [],
        "id": "0f59fc1a"
      },
      "source": [
        "## Data preprocessing"
      ]
    },
    {
      "cell_type": "code",
      "execution_count": null,
      "id": "fa610321",
      "metadata": {
        "execution": {
          "iopub.execute_input": "2021-09-19T00:53:08.391798Z",
          "iopub.status.busy": "2021-09-19T00:53:08.386585Z",
          "iopub.status.idle": "2021-09-19T00:53:08.407231Z",
          "shell.execute_reply": "2021-09-19T00:53:08.407749Z",
          "shell.execute_reply.started": "2021-09-18T21:50:52.900880Z"
        },
        "papermill": {
          "duration": 0.067609,
          "end_time": "2021-09-19T00:53:08.407925",
          "exception": false,
          "start_time": "2021-09-19T00:53:08.340316",
          "status": "completed"
        },
        "tags": [],
        "id": "fa610321",
        "outputId": "3e87fe0e-3e2f-4895-f6a9-820426f710bb"
      },
      "outputs": [
        {
          "data": {
            "text/html": [
              "<div>\n",
              "<style scoped>\n",
              "    .dataframe tbody tr th:only-of-type {\n",
              "        vertical-align: middle;\n",
              "    }\n",
              "\n",
              "    .dataframe tbody tr th {\n",
              "        vertical-align: top;\n",
              "    }\n",
              "\n",
              "    .dataframe thead th {\n",
              "        text-align: right;\n",
              "    }\n",
              "</style>\n",
              "<table border=\"1\" class=\"dataframe\">\n",
              "  <thead>\n",
              "    <tr style=\"text-align: right;\">\n",
              "      <th></th>\n",
              "      <th>N</th>\n",
              "      <th>P</th>\n",
              "      <th>K</th>\n",
              "      <th>temperature</th>\n",
              "      <th>humidity</th>\n",
              "      <th>ph</th>\n",
              "      <th>rainfall</th>\n",
              "      <th>label</th>\n",
              "    </tr>\n",
              "  </thead>\n",
              "  <tbody>\n",
              "    <tr>\n",
              "      <th>0</th>\n",
              "      <td>90</td>\n",
              "      <td>42</td>\n",
              "      <td>43</td>\n",
              "      <td>20.879744</td>\n",
              "      <td>82.002744</td>\n",
              "      <td>6.502985</td>\n",
              "      <td>202.935536</td>\n",
              "      <td>rice</td>\n",
              "    </tr>\n",
              "    <tr>\n",
              "      <th>1</th>\n",
              "      <td>85</td>\n",
              "      <td>58</td>\n",
              "      <td>41</td>\n",
              "      <td>21.770462</td>\n",
              "      <td>80.319644</td>\n",
              "      <td>7.038096</td>\n",
              "      <td>226.655537</td>\n",
              "      <td>rice</td>\n",
              "    </tr>\n",
              "    <tr>\n",
              "      <th>2</th>\n",
              "      <td>60</td>\n",
              "      <td>55</td>\n",
              "      <td>44</td>\n",
              "      <td>23.004459</td>\n",
              "      <td>82.320763</td>\n",
              "      <td>7.840207</td>\n",
              "      <td>263.964248</td>\n",
              "      <td>rice</td>\n",
              "    </tr>\n",
              "    <tr>\n",
              "      <th>3</th>\n",
              "      <td>74</td>\n",
              "      <td>35</td>\n",
              "      <td>40</td>\n",
              "      <td>26.491096</td>\n",
              "      <td>80.158363</td>\n",
              "      <td>6.980401</td>\n",
              "      <td>242.864034</td>\n",
              "      <td>rice</td>\n",
              "    </tr>\n",
              "    <tr>\n",
              "      <th>4</th>\n",
              "      <td>78</td>\n",
              "      <td>42</td>\n",
              "      <td>42</td>\n",
              "      <td>20.130175</td>\n",
              "      <td>81.604873</td>\n",
              "      <td>7.628473</td>\n",
              "      <td>262.717340</td>\n",
              "      <td>rice</td>\n",
              "    </tr>\n",
              "  </tbody>\n",
              "</table>\n",
              "</div>"
            ],
            "text/plain": [
              "    N   P   K  temperature   humidity        ph    rainfall label\n",
              "0  90  42  43    20.879744  82.002744  6.502985  202.935536  rice\n",
              "1  85  58  41    21.770462  80.319644  7.038096  226.655537  rice\n",
              "2  60  55  44    23.004459  82.320763  7.840207  263.964248  rice\n",
              "3  74  35  40    26.491096  80.158363  6.980401  242.864034  rice\n",
              "4  78  42  42    20.130175  81.604873  7.628473  262.717340  rice"
            ]
          },
          "execution_count": 4,
          "metadata": {},
          "output_type": "execute_result"
        }
      ],
      "source": [
        "df.head()"
      ]
    },
    {
      "cell_type": "code",
      "execution_count": null,
      "id": "3c0ea51e",
      "metadata": {
        "execution": {
          "iopub.execute_input": "2021-09-19T00:53:08.500370Z",
          "iopub.status.busy": "2021-09-19T00:53:08.499406Z",
          "iopub.status.idle": "2021-09-19T00:53:08.540528Z",
          "shell.execute_reply": "2021-09-19T00:53:08.540028Z",
          "shell.execute_reply.started": "2021-09-18T21:50:52.927880Z"
        },
        "papermill": {
          "duration": 0.08858,
          "end_time": "2021-09-19T00:53:08.540677",
          "exception": false,
          "start_time": "2021-09-19T00:53:08.452097",
          "status": "completed"
        },
        "tags": [],
        "id": "3c0ea51e",
        "outputId": "5b167780-b6e2-4084-e253-8f4ecbbaf1be"
      },
      "outputs": [
        {
          "data": {
            "text/html": [
              "<div>\n",
              "<style scoped>\n",
              "    .dataframe tbody tr th:only-of-type {\n",
              "        vertical-align: middle;\n",
              "    }\n",
              "\n",
              "    .dataframe tbody tr th {\n",
              "        vertical-align: top;\n",
              "    }\n",
              "\n",
              "    .dataframe thead th {\n",
              "        text-align: right;\n",
              "    }\n",
              "</style>\n",
              "<table border=\"1\" class=\"dataframe\">\n",
              "  <thead>\n",
              "    <tr style=\"text-align: right;\">\n",
              "      <th></th>\n",
              "      <th>N</th>\n",
              "      <th>P</th>\n",
              "      <th>K</th>\n",
              "      <th>temperature</th>\n",
              "      <th>humidity</th>\n",
              "      <th>ph</th>\n",
              "      <th>rainfall</th>\n",
              "      <th>label</th>\n",
              "    </tr>\n",
              "  </thead>\n",
              "  <tbody>\n",
              "    <tr>\n",
              "      <th>count</th>\n",
              "      <td>2200.000000</td>\n",
              "      <td>2200.000000</td>\n",
              "      <td>2200.000000</td>\n",
              "      <td>2200.000000</td>\n",
              "      <td>2200.000000</td>\n",
              "      <td>2200.000000</td>\n",
              "      <td>2200.000000</td>\n",
              "      <td>2200</td>\n",
              "    </tr>\n",
              "    <tr>\n",
              "      <th>unique</th>\n",
              "      <td>NaN</td>\n",
              "      <td>NaN</td>\n",
              "      <td>NaN</td>\n",
              "      <td>NaN</td>\n",
              "      <td>NaN</td>\n",
              "      <td>NaN</td>\n",
              "      <td>NaN</td>\n",
              "      <td>22</td>\n",
              "    </tr>\n",
              "    <tr>\n",
              "      <th>top</th>\n",
              "      <td>NaN</td>\n",
              "      <td>NaN</td>\n",
              "      <td>NaN</td>\n",
              "      <td>NaN</td>\n",
              "      <td>NaN</td>\n",
              "      <td>NaN</td>\n",
              "      <td>NaN</td>\n",
              "      <td>rice</td>\n",
              "    </tr>\n",
              "    <tr>\n",
              "      <th>freq</th>\n",
              "      <td>NaN</td>\n",
              "      <td>NaN</td>\n",
              "      <td>NaN</td>\n",
              "      <td>NaN</td>\n",
              "      <td>NaN</td>\n",
              "      <td>NaN</td>\n",
              "      <td>NaN</td>\n",
              "      <td>100</td>\n",
              "    </tr>\n",
              "    <tr>\n",
              "      <th>mean</th>\n",
              "      <td>50.551818</td>\n",
              "      <td>53.362727</td>\n",
              "      <td>48.149091</td>\n",
              "      <td>25.616244</td>\n",
              "      <td>71.481779</td>\n",
              "      <td>6.469480</td>\n",
              "      <td>103.463655</td>\n",
              "      <td>NaN</td>\n",
              "    </tr>\n",
              "    <tr>\n",
              "      <th>std</th>\n",
              "      <td>36.917334</td>\n",
              "      <td>32.985883</td>\n",
              "      <td>50.647931</td>\n",
              "      <td>5.063749</td>\n",
              "      <td>22.263812</td>\n",
              "      <td>0.773938</td>\n",
              "      <td>54.958389</td>\n",
              "      <td>NaN</td>\n",
              "    </tr>\n",
              "    <tr>\n",
              "      <th>min</th>\n",
              "      <td>0.000000</td>\n",
              "      <td>5.000000</td>\n",
              "      <td>5.000000</td>\n",
              "      <td>8.825675</td>\n",
              "      <td>14.258040</td>\n",
              "      <td>3.504752</td>\n",
              "      <td>20.211267</td>\n",
              "      <td>NaN</td>\n",
              "    </tr>\n",
              "    <tr>\n",
              "      <th>25%</th>\n",
              "      <td>21.000000</td>\n",
              "      <td>28.000000</td>\n",
              "      <td>20.000000</td>\n",
              "      <td>22.769375</td>\n",
              "      <td>60.261953</td>\n",
              "      <td>5.971693</td>\n",
              "      <td>64.551686</td>\n",
              "      <td>NaN</td>\n",
              "    </tr>\n",
              "    <tr>\n",
              "      <th>50%</th>\n",
              "      <td>37.000000</td>\n",
              "      <td>51.000000</td>\n",
              "      <td>32.000000</td>\n",
              "      <td>25.598693</td>\n",
              "      <td>80.473146</td>\n",
              "      <td>6.425045</td>\n",
              "      <td>94.867624</td>\n",
              "      <td>NaN</td>\n",
              "    </tr>\n",
              "    <tr>\n",
              "      <th>75%</th>\n",
              "      <td>84.250000</td>\n",
              "      <td>68.000000</td>\n",
              "      <td>49.000000</td>\n",
              "      <td>28.561654</td>\n",
              "      <td>89.948771</td>\n",
              "      <td>6.923643</td>\n",
              "      <td>124.267508</td>\n",
              "      <td>NaN</td>\n",
              "    </tr>\n",
              "    <tr>\n",
              "      <th>max</th>\n",
              "      <td>140.000000</td>\n",
              "      <td>145.000000</td>\n",
              "      <td>205.000000</td>\n",
              "      <td>43.675493</td>\n",
              "      <td>99.981876</td>\n",
              "      <td>9.935091</td>\n",
              "      <td>298.560117</td>\n",
              "      <td>NaN</td>\n",
              "    </tr>\n",
              "  </tbody>\n",
              "</table>\n",
              "</div>"
            ],
            "text/plain": [
              "                  N            P            K  temperature     humidity  \\\n",
              "count   2200.000000  2200.000000  2200.000000  2200.000000  2200.000000   \n",
              "unique          NaN          NaN          NaN          NaN          NaN   \n",
              "top             NaN          NaN          NaN          NaN          NaN   \n",
              "freq            NaN          NaN          NaN          NaN          NaN   \n",
              "mean      50.551818    53.362727    48.149091    25.616244    71.481779   \n",
              "std       36.917334    32.985883    50.647931     5.063749    22.263812   \n",
              "min        0.000000     5.000000     5.000000     8.825675    14.258040   \n",
              "25%       21.000000    28.000000    20.000000    22.769375    60.261953   \n",
              "50%       37.000000    51.000000    32.000000    25.598693    80.473146   \n",
              "75%       84.250000    68.000000    49.000000    28.561654    89.948771   \n",
              "max      140.000000   145.000000   205.000000    43.675493    99.981876   \n",
              "\n",
              "                 ph     rainfall label  \n",
              "count   2200.000000  2200.000000  2200  \n",
              "unique          NaN          NaN    22  \n",
              "top             NaN          NaN  rice  \n",
              "freq            NaN          NaN   100  \n",
              "mean       6.469480   103.463655   NaN  \n",
              "std        0.773938    54.958389   NaN  \n",
              "min        3.504752    20.211267   NaN  \n",
              "25%        5.971693    64.551686   NaN  \n",
              "50%        6.425045    94.867624   NaN  \n",
              "75%        6.923643   124.267508   NaN  \n",
              "max        9.935091   298.560117   NaN  "
            ]
          },
          "execution_count": 5,
          "metadata": {},
          "output_type": "execute_result"
        }
      ],
      "source": [
        "df.describe(include=\"all\")"
      ]
    },
    {
      "cell_type": "code",
      "execution_count": null,
      "id": "5d5d4e6a",
      "metadata": {
        "execution": {
          "iopub.execute_input": "2021-09-19T00:53:08.639258Z",
          "iopub.status.busy": "2021-09-19T00:53:08.638570Z",
          "iopub.status.idle": "2021-09-19T00:53:08.641080Z",
          "shell.execute_reply": "2021-09-19T00:53:08.641541Z",
          "shell.execute_reply.started": "2021-09-18T21:50:52.977983Z"
        },
        "papermill": {
          "duration": 0.055757,
          "end_time": "2021-09-19T00:53:08.641699",
          "exception": false,
          "start_time": "2021-09-19T00:53:08.585942",
          "status": "completed"
        },
        "tags": [],
        "id": "5d5d4e6a",
        "outputId": "0cc2a435-956f-4a52-86f9-0eee929b38b5"
      },
      "outputs": [
        {
          "data": {
            "text/plain": [
              "rice           100\n",
              "maize          100\n",
              "jute           100\n",
              "cotton         100\n",
              "coconut        100\n",
              "papaya         100\n",
              "orange         100\n",
              "apple          100\n",
              "muskmelon      100\n",
              "watermelon     100\n",
              "grapes         100\n",
              "mango          100\n",
              "banana         100\n",
              "pomegranate    100\n",
              "lentil         100\n",
              "blackgram      100\n",
              "mungbean       100\n",
              "mothbeans      100\n",
              "pigeonpeas     100\n",
              "kidneybeans    100\n",
              "chickpea       100\n",
              "coffee         100\n",
              "Name: label, dtype: int64"
            ]
          },
          "execution_count": 6,
          "metadata": {},
          "output_type": "execute_result"
        }
      ],
      "source": [
        "df['label'].value_counts()"
      ]
    },
    {
      "cell_type": "markdown",
      "id": "612a9fd5",
      "metadata": {
        "papermill": {
          "duration": 0.044813,
          "end_time": "2021-09-19T00:53:08.731351",
          "exception": false,
          "start_time": "2021-09-19T00:53:08.686538",
          "status": "completed"
        },
        "tags": [],
        "id": "612a9fd5"
      },
      "source": [
        "### As you can see from the above description:\n",
        "### Dataset has:\n",
        "* No missing values\n",
        "* 7 independent features and 1 dependent feature\n",
        "* 2200 samples in each feature.\n",
        "* Class balance\n",
        "* Seems clean and preprocessed\n",
        "* Therefore, we can directly use for training.\n"
      ]
    },
    {
      "cell_type": "code",
      "execution_count": null,
      "id": "73fbd3e4",
      "metadata": {
        "execution": {
          "iopub.execute_input": "2021-09-19T00:53:08.841479Z",
          "iopub.status.busy": "2021-09-19T00:53:08.840800Z",
          "iopub.status.idle": "2021-09-19T00:53:09.508268Z",
          "shell.execute_reply": "2021-09-19T00:53:09.508796Z",
          "shell.execute_reply.started": "2021-09-18T21:50:52.988666Z"
        },
        "papermill": {
          "duration": 0.728071,
          "end_time": "2021-09-19T00:53:09.509000",
          "exception": false,
          "start_time": "2021-09-19T00:53:08.780929",
          "status": "completed"
        },
        "tags": [],
        "id": "73fbd3e4",
        "outputId": "0d4ffc1b-3c52-4b0b-a27b-58472f29a7da"
      },
      "outputs": [
        {
          "data": {
            "text/plain": [
              "<AxesSubplot:>"
            ]
          },
          "execution_count": 7,
          "metadata": {},
          "output_type": "execute_result"
        },
        {
          "data": {
            "image/png": "[encoded data removed]",
            "text/plain": [
              "<Figure size 720x576 with 2 Axes>"
            ]
          },
          "metadata": {
            "needs_background": "light"
          },
          "output_type": "display_data"
        }
      ],
      "source": [
        "correlation_mat = df.corr()\n",
        "correlation_mat\n",
        "plt.figure(figsize=(10,8))\n",
        "sns.heatmap(correlation_mat, linewidths=.5,annot=True, fmt=\"f\")"
      ]
    },
    {
      "cell_type": "code",
      "execution_count": null,
      "id": "7386a8ce",
      "metadata": {
        "execution": {
          "iopub.execute_input": "2021-09-19T00:53:09.713458Z",
          "iopub.status.busy": "2021-09-19T00:53:09.712807Z",
          "iopub.status.idle": "2021-09-19T00:53:09.718349Z",
          "shell.execute_reply": "2021-09-19T00:53:09.718818Z",
          "shell.execute_reply.started": "2021-09-18T21:50:53.627398Z"
        },
        "papermill": {
          "duration": 0.059242,
          "end_time": "2021-09-19T00:53:09.719010",
          "exception": false,
          "start_time": "2021-09-19T00:53:09.659768",
          "status": "completed"
        },
        "tags": [],
        "id": "7386a8ce"
      },
      "outputs": [],
      "source": [
        "X = df.iloc[:,:-1]     # selecting all features except 'label' feature \n",
        "y = df.iloc[:,-1]      # selecting 'label' feature as dependent feature"
      ]
    },
    {
      "cell_type": "code",
      "execution_count": null,
      "id": "51c0eb74",
      "metadata": {
        "execution": {
          "iopub.execute_input": "2021-09-19T00:53:09.822341Z",
          "iopub.status.busy": "2021-09-19T00:53:09.821620Z",
          "iopub.status.idle": "2021-09-19T00:53:09.827970Z",
          "shell.execute_reply": "2021-09-19T00:53:09.828429Z",
          "shell.execute_reply.started": "2021-09-18T21:50:53.636144Z"
        },
        "papermill": {
          "duration": 0.059229,
          "end_time": "2021-09-19T00:53:09.828606",
          "exception": false,
          "start_time": "2021-09-19T00:53:09.769377",
          "status": "completed"
        },
        "tags": [],
        "id": "51c0eb74"
      },
      "outputs": [],
      "source": [
        "# Splitting dataset into train and test data\n",
        "X_train, X_test, y_train, y_test = train_test_split(X, y, test_size = 0.2, random_state =2)"
      ]
    },
    {
      "cell_type": "code",
      "execution_count": null,
      "id": "d09413b1",
      "metadata": {
        "execution": {
          "iopub.execute_input": "2021-09-19T00:53:09.934184Z",
          "iopub.status.busy": "2021-09-19T00:53:09.933537Z",
          "iopub.status.idle": "2021-09-19T00:53:09.949331Z",
          "shell.execute_reply": "2021-09-19T00:53:09.949928Z",
          "shell.execute_reply.started": "2021-09-18T21:50:53.651421Z"
        },
        "papermill": {
          "duration": 0.071713,
          "end_time": "2021-09-19T00:53:09.950100",
          "exception": false,
          "start_time": "2021-09-19T00:53:09.878387",
          "status": "completed"
        },
        "tags": [],
        "id": "d09413b1",
        "outputId": "198322b0-0c8e-4243-82f0-c4fca487d9f5"
      },
      "outputs": [
        {
          "name": "stdout",
          "output_type": "stream",
          "text": [
            "X_train shape: (1760, 7)\n",
            "X_test shape: (440, 7)\n",
            "y_train shape: (1760,)\n",
            "y_test shape: (440,)\n"
          ]
        }
      ],
      "source": [
        "print('X_train shape:', X_train.shape)\n",
        "print('X_test shape:', X_test.shape)\n",
        "print('y_train shape:', y_train.shape)\n",
        "print('y_test shape:', y_test.shape)"
      ]
    },
    {
      "cell_type": "markdown",
      "id": "9c21583b",
      "metadata": {
        "papermill": {
          "duration": 0.050789,
          "end_time": "2021-09-19T00:53:10.051157",
          "exception": false,
          "start_time": "2021-09-19T00:53:10.000368",
          "status": "completed"
        },
        "tags": [],
        "id": "9c21583b"
      },
      "source": [
        "## Model training"
      ]
    },
    {
      "cell_type": "code",
      "execution_count": null,
      "id": "0f9d70b8",
      "metadata": {
        "execution": {
          "iopub.execute_input": "2021-09-19T00:53:10.156825Z",
          "iopub.status.busy": "2021-09-19T00:53:10.155829Z",
          "iopub.status.idle": "2021-09-19T00:53:10.159731Z",
          "shell.execute_reply": "2021-09-19T00:53:10.160189Z",
          "shell.execute_reply.started": "2021-09-18T21:50:53.661469Z"
        },
        "papermill": {
          "duration": 0.058814,
          "end_time": "2021-09-19T00:53:10.160354",
          "exception": false,
          "start_time": "2021-09-19T00:53:10.101540",
          "status": "completed"
        },
        "tags": [],
        "id": "0f9d70b8"
      },
      "outputs": [],
      "source": [
        "KNN_model = KNeighborsClassifier()"
      ]
    },
    {
      "cell_type": "code",
      "execution_count": null,
      "id": "f48fb3a2",
      "metadata": {
        "execution": {
          "iopub.execute_input": "2021-09-19T00:53:10.266528Z",
          "iopub.status.busy": "2021-09-19T00:53:10.265813Z",
          "iopub.status.idle": "2021-09-19T00:53:10.392185Z",
          "shell.execute_reply": "2021-09-19T00:53:10.392691Z",
          "shell.execute_reply.started": "2021-09-18T21:50:53.670523Z"
        },
        "papermill": {
          "duration": 0.182448,
          "end_time": "2021-09-19T00:53:10.392873",
          "exception": false,
          "start_time": "2021-09-19T00:53:10.210425",
          "status": "completed"
        },
        "tags": [],
        "id": "f48fb3a2",
        "outputId": "e58e4ce2-6919-4cb0-aca8-309c7f2a3312"
      },
      "outputs": [
        {
          "data": {
            "text/plain": [
              "KNeighborsClassifier()"
            ]
          },
          "execution_count": 12,
          "metadata": {},
          "output_type": "execute_result"
        }
      ],
      "source": [
        "KNN_model.fit(X_train,y_train)"
      ]
    },
    {
      "cell_type": "markdown",
      "id": "b14dd112",
      "metadata": {
        "papermill": {
          "duration": 0.051232,
          "end_time": "2021-09-19T00:53:10.495567",
          "exception": false,
          "start_time": "2021-09-19T00:53:10.444335",
          "status": "completed"
        },
        "tags": [],
        "id": "b14dd112"
      },
      "source": [
        "## Evaluating the model"
      ]
    },
    {
      "cell_type": "code",
      "execution_count": null,
      "id": "2676cf80",
      "metadata": {
        "execution": {
          "iopub.execute_input": "2021-09-19T00:53:10.606632Z",
          "iopub.status.busy": "2021-09-19T00:53:10.605934Z",
          "iopub.status.idle": "2021-09-19T00:53:10.626927Z",
          "shell.execute_reply": "2021-09-19T00:53:10.627487Z",
          "shell.execute_reply.started": "2021-09-18T21:50:53.802297Z"
        },
        "papermill": {
          "duration": 0.080662,
          "end_time": "2021-09-19T00:53:10.627658",
          "exception": false,
          "start_time": "2021-09-19T00:53:10.546996",
          "status": "completed"
        },
        "tags": [],
        "id": "2676cf80"
      },
      "outputs": [],
      "source": [
        "y_pred = KNN_model.predict(X_test)"
      ]
    },
    {
      "cell_type": "markdown",
      "id": "90ba6830",
      "metadata": {
        "papermill": {
          "duration": 0.051748,
          "end_time": "2021-09-19T00:53:10.731092",
          "exception": false,
          "start_time": "2021-09-19T00:53:10.679344",
          "status": "completed"
        },
        "tags": [],
        "id": "90ba6830"
      },
      "source": [
        "## Visualize the results"
      ]
    },
    {
      "cell_type": "code",
      "execution_count": null,
      "id": "39cbbd3b",
      "metadata": {
        "execution": {
          "iopub.execute_input": "2021-09-19T00:53:10.845203Z",
          "iopub.status.busy": "2021-09-19T00:53:10.844552Z",
          "iopub.status.idle": "2021-09-19T00:53:10.864367Z",
          "shell.execute_reply": "2021-09-19T00:53:10.863679Z",
          "shell.execute_reply.started": "2021-09-18T21:50:53.835604Z"
        },
        "papermill": {
          "duration": 0.081965,
          "end_time": "2021-09-19T00:53:10.864506",
          "exception": false,
          "start_time": "2021-09-19T00:53:10.782541",
          "status": "completed"
        },
        "tags": [],
        "id": "39cbbd3b",
        "outputId": "46da0e63-cfbf-47d7-bece-d694d64008fc"
      },
      "outputs": [
        {
          "name": "stdout",
          "output_type": "stream",
          "text": [
            "              precision    recall  f1-score   support\n",
            "\n",
            "       apple       1.00      1.00      1.00        13\n",
            "      banana       1.00      1.00      1.00        17\n",
            "   blackgram       0.94      1.00      0.97        16\n",
            "    chickpea       1.00      1.00      1.00        21\n",
            "     coconut       1.00      1.00      1.00        21\n",
            "      coffee       1.00      1.00      1.00        22\n",
            "      cotton       0.95      1.00      0.98        20\n",
            "      grapes       1.00      1.00      1.00        18\n",
            "        jute       0.89      0.86      0.87        28\n",
            " kidneybeans       0.93      1.00      0.97        14\n",
            "      lentil       0.96      1.00      0.98        23\n",
            "       maize       1.00      0.95      0.98        21\n",
            "       mango       1.00      1.00      1.00        26\n",
            "   mothbeans       1.00      0.89      0.94        19\n",
            "    mungbean       1.00      1.00      1.00        24\n",
            "   muskmelon       1.00      1.00      1.00        23\n",
            "      orange       1.00      1.00      1.00        29\n",
            "      papaya       1.00      1.00      1.00        19\n",
            "  pigeonpeas       1.00      0.94      0.97        18\n",
            " pomegranate       1.00      1.00      1.00        17\n",
            "        rice       0.76      0.81      0.79        16\n",
            "  watermelon       1.00      1.00      1.00        15\n",
            "\n",
            "    accuracy                           0.97       440\n",
            "   macro avg       0.97      0.98      0.97       440\n",
            "weighted avg       0.98      0.97      0.98       440\n",
            "\n"
          ]
        }
      ],
      "source": [
        "results = classification_report(y_test, y_pred)\n",
        "print(results)"
      ]
    },
    {
      "cell_type": "code",
      "execution_count": null,
      "id": "c14c86c9",
      "metadata": {
        "execution": {
          "iopub.execute_input": "2021-09-19T00:53:11.008439Z",
          "iopub.status.busy": "2021-09-19T00:53:10.994351Z",
          "iopub.status.idle": "2021-09-19T00:53:13.275873Z",
          "shell.execute_reply": "2021-09-19T00:53:13.276341Z",
          "shell.execute_reply.started": "2021-09-18T21:50:53.876715Z"
        },
        "papermill": {
          "duration": 2.360754,
          "end_time": "2021-09-19T00:53:13.276516",
          "exception": false,
          "start_time": "2021-09-19T00:53:10.915762",
          "status": "completed"
        },
        "tags": [],
        "id": "c14c86c9",
        "outputId": "3a1a2012-d956-49a5-88aa-a04d51a71610"
      },
      "outputs": [
        {
          "data": {
            "text/plain": [
              "<sklearn.metrics._plot.confusion_matrix.ConfusionMatrixDisplay at 0x7f486de4c850>"
            ]
          },
          "execution_count": 15,
          "metadata": {},
          "output_type": "execute_result"
        },
        {
          "data": {
            "image/png": "[encoded data removed]",
            "text/plain": [
              "<Figure size 1080x1080 with 2 Axes>"
            ]
          },
          "metadata": {
            "needs_background": "light"
          },
          "output_type": "display_data"
        }
      ],
      "source": [
        "conf_mat = confusion_matrix(y_test, y_pred, labels=KNN_model.classes_)\n",
        "figure, axes = plt.subplots(1, figsize=(15,15))\n",
        "disp = ConfusionMatrixDisplay(confusion_matrix=conf_mat,  display_labels=KNN_model.classes_)\n",
        "disp.plot(ax = axes, xticks_rotation='vertical') "
      ]
    },
    {
      "cell_type": "markdown",
      "id": "aa2ce4db",
      "metadata": {
        "papermill": {
          "duration": 0.053604,
          "end_time": "2021-09-19T00:53:13.383812",
          "exception": false,
          "start_time": "2021-09-19T00:53:13.330208",
          "status": "completed"
        },
        "tags": [],
        "id": "aa2ce4db"
      },
      "source": [
        "### As you can observe from the above heatmap is that:\n",
        "* Accuracy of the model is 97%\n"
      ]
    },
    {
      "cell_type": "markdown",
      "id": "8bd8b063",
      "metadata": {
        "papermill": {
          "duration": 0.061479,
          "end_time": "2021-09-19T00:53:22.414928",
          "exception": false,
          "start_time": "2021-09-19T00:53:22.353449",
          "status": "completed"
        },
        "tags": [],
        "id": "8bd8b063"
      },
      "source": [
        "## Model pickling"
      ]
    },
    {
      "cell_type": "code",
      "execution_count": null,
      "id": "eb48f58b",
      "metadata": {
        "execution": {
          "iopub.execute_input": "2021-09-19T00:53:22.541796Z",
          "iopub.status.busy": "2021-09-19T00:53:22.541167Z",
          "iopub.status.idle": "2021-09-19T00:53:22.543631Z",
          "shell.execute_reply": "2021-09-19T00:53:22.544307Z",
          "shell.execute_reply.started": "2021-09-18T21:51:04.377695Z"
        },
        "papermill": {
          "duration": 0.067761,
          "end_time": "2021-09-19T00:53:22.544472",
          "exception": false,
          "start_time": "2021-09-19T00:53:22.476711",
          "status": "completed"
        },
        "tags": [],
        "id": "eb48f58b"
      },
      "outputs": [],
      "source": [
        "# open a file, where you ant to store the data\n",
        "file = open('KNN_model_crop_prediction.pkl', 'wb')\n",
        "# dump information to that file\n",
        "pickle.dump(KNN_model, file)"
      ]
    },
    {
      "cell_type": "code",
      "execution_count": null,
      "id": "06f5bedd",
      "metadata": {
        "execution": {
          "iopub.execute_input": "2021-09-19T00:53:23.776057Z",
          "iopub.status.busy": "2021-09-19T00:53:23.775455Z",
          "iopub.status.idle": "2021-09-19T00:53:23.778198Z",
          "shell.execute_reply": "2021-09-19T00:53:23.778751Z"
        },
        "papermill": {
          "duration": 0.067326,
          "end_time": "2021-09-19T00:53:23.778928",
          "exception": false,
          "start_time": "2021-09-19T00:53:23.711602",
          "status": "completed"
        },
        "tags": [],
        "id": "06f5bedd"
      },
      "outputs": [],
      "source": [
        "###"
      ]
    }
  ],
  "metadata": {
    "kernelspec": {
      "display_name": "Python 3",
      "language": "python",
      "name": "python3"
    },
    "language_info": {
      "codemirror_mode": {
        "name": "ipython",
        "version": 3
      },
      "file_extension": ".py",
      "mimetype": "text/x-python",
      "name": "python",
      "nbconvert_exporter": "python",
      "pygments_lexer": "ipython3",
      "version": "3.7.10"
    },
    "papermill": {
      "default_parameters": {},
      "duration": 25.74294,
      "end_time": "2021-09-19T00:53:24.551019",
      "environment_variables": {},
      "exception": null,
      "input_path": "__notebook__.ipynb",
      "output_path": "__notebook__.ipynb",
      "parameters": {},
      "start_time": "2021-09-19T00:52:58.808079",
      "version": "2.3.3"
    },
    "colab": {
      "provenance": [],
      "collapsed_sections": []
    }
  },
  "nbformat": 4,
  "nbformat_minor": 5
}